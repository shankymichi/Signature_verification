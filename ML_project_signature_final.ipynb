{
  "nbformat": 4,
  "nbformat_minor": 0,
  "metadata": {
    "colab": {
      "name": "ML_project-signature.ipynb",
      "provenance": [],
      "collapsed_sections": []
    },
    "kernelspec": {
      "name": "python3",
      "display_name": "Python 3"
    },
    "language_info": {
      "name": "python"
    }
  },
  "cells": [
    {
      "cell_type": "code",
      "metadata": {
        "colab": {
          "base_uri": "https://localhost:8080/"
        },
        "id": "vTxYkyP7cEYR",
        "outputId": "439db0dc-dc0c-48fc-f6fb-7f8787d37d40"
      },
      "source": [
        "from google.colab import drive\n",
        "drive.mount('/content/drive')"
      ],
      "execution_count": null,
      "outputs": [
        {
          "output_type": "stream",
          "text": [
            "Mounted at /content/drive\n"
          ],
          "name": "stdout"
        }
      ]
    },
    {
      "cell_type": "markdown",
      "metadata": {
        "id": "KwKeLNyqsKh6"
      },
      "source": [
        "Importing the libraries required"
      ]
    },
    {
      "cell_type": "code",
      "metadata": {
        "id": "rOB4Pa36cQsv"
      },
      "source": [
        "import cv2\n",
        "import os\n",
        "import glob\n",
        "import numpy as np\n",
        "import random"
      ],
      "execution_count": 3,
      "outputs": []
    },
    {
      "cell_type": "markdown",
      "metadata": {
        "id": "AARMPGO0sOlR"
      },
      "source": [
        "Pre-processing function"
      ]
    },
    {
      "cell_type": "code",
      "metadata": {
        "id": "3wSk_wrUcT8s"
      },
      "source": [
        "def prepare(input):\n",
        "    # preprocessing the image input\n",
        "    clean = cv2.fastNlMeansDenoising(input) #denoise the image\n",
        "    ret, tresh = cv2.threshold(clean, 127, 1, cv2.THRESH_BINARY_INV)  #apply threshholding to pixels\n",
        "    img = crop(tresh)   #crop the image\n",
        "\n",
        "    # 40x10 image as a flatten array\n",
        "    flatten_img = cv2.resize(img, (40, 10), interpolation=cv2.INTER_AREA).flatten()\n",
        "\n",
        "    # resize to 400x100\n",
        "    resized = cv2.resize(img, (400, 100), interpolation=cv2.INTER_AREA)\n",
        "    columns = np.sum(resized, axis=0)  # sum of all columns\n",
        "    lines = np.sum(resized, axis=1)  # sum of all lines\n",
        "\n",
        "    h, w = img.shape\n",
        "    aspect = w / h\n",
        "\n",
        "    return [*flatten_img, *columns, *lines, aspect]\n",
        "\n",
        "\n",
        "def crop(img):\n",
        "    points = cv2.findNonZero(img)\n",
        "    x, y, w, h = cv2.boundingRect(points)\n",
        "    return img[y: y+h, x: x+w]"
      ],
      "execution_count": null,
      "outputs": []
    },
    {
      "cell_type": "markdown",
      "metadata": {
        "id": "4blyXgU-sWUT"
      },
      "source": [
        "Neural Network and its functions"
      ]
    },
    {
      "cell_type": "code",
      "metadata": {
        "id": "d3Nj4523cY0_"
      },
      "source": [
        "class NeuralNetwork():\n",
        "\n",
        "    def __init__(self, sizes):\n",
        "        self.num_layers = len(sizes)\n",
        "        self.sizes = sizes\n",
        "        self.biases = [np.random.randn(y,1) for y in sizes[1:]]\n",
        "        self.weights = [np.random.randn(y,x) for x,y in zip(sizes[:-1],sizes[1:])]\n",
        "\n",
        "    def feedforward(self, a):\n",
        "        for b,w in zip(self.biases, self.weights):\n",
        "            a = sigmoid(np.dot(w, a) + b)\n",
        "        return a\n",
        "\n",
        "    def separate_batches(self, training_data, batch_size):\n",
        "        random.shuffle(training_data)\n",
        "        n = len(training_data)\n",
        "        return [training_data[i:i + batch_size] for i in range(0, n, batch_size)]\n",
        "\n",
        "    def update_batches(self, batches, alpha):\n",
        "        for batch in batches:\n",
        "            nabla_b = [np.zeros(b.shape) for b in self.biases]\n",
        "            nabla_w = [np.zeros(w.shape) for w in self.weights]\n",
        "            m = len(batch)\n",
        "            for x, y in batch:\n",
        "                delta_b, delta_w = self.backpropagation(x, y)\n",
        "                nabla_b = [nb + dnb for nb, dnb in zip(nabla_b, delta_b)]\n",
        "                nabla_w = [nw + dnw for nw, dnw in zip(nabla_w, delta_w)]\n",
        "\n",
        "            self.weights = [w - (alpha / m) * nw for w, nw in zip(self.weights, nabla_w)]\n",
        "            self.biases = [b - (alpha / m) * nb for b, nb in zip(self.biases, nabla_b)]\n",
        "\n",
        "    def backpropagation(self, x, y):\n",
        "        nabla_b = [np.zeros(b.shape) for b in self.biases]\n",
        "        nabla_w = [np.zeros(w.shape) for w in self.weights]\n",
        "\n",
        "        activation = x\n",
        "        activations = [x]\n",
        "        zs = []\n",
        "        for b, w in zip(self.biases, self.weights):\n",
        "            # layer-bound b and w\n",
        "            z = np.dot(w, activation)+b\n",
        "            zs.append(z)\n",
        "            activation = sigmoid(z)\n",
        "            activations.append(activation)\n",
        "        # backward pass\n",
        "        delta = self.cost_derivative(activations[-1], y) * \\\n",
        "            sigmoid_prime(zs[-1])\n",
        "        nabla_b[-1] = delta\n",
        "        nabla_w[-1] = np.dot(delta, activations[-2].transpose())\n",
        "\n",
        "        for l in range(2, self.num_layers):\n",
        "            z = zs[-l]\n",
        "            sp = sigmoid_prime(z)\n",
        "            delta = np.dot(self.weights[-l+1].transpose(), delta) * sp\n",
        "            nabla_b[-l] = delta\n",
        "            nabla_w[-l] = np.dot(delta, activations[-l-1].transpose())\n",
        "        return (nabla_b, nabla_w)\n",
        "\n",
        "    def sgd(self, training_data, epochs, batch_size, alpha, test_data):\n",
        "        n_test = len(test_data)\n",
        "        error=0\n",
        "\n",
        "        for epoch in range(epochs):\n",
        "            batches = self.separate_batches(training_data, batch_size)\n",
        "            self.update_batches(batches, alpha)\n",
        "            genuine=self.evaluate(test_data)\n",
        "            error = error+abs(genuine-12)\n",
        "            print(\"Epoch {0}: {1} / {2}\".format(epoch, genuine, n_test))\n",
        "        error=error/epochs\n",
        "        print(\"Result deviation: {0}%\".format(error*100/12))\n",
        "\n",
        "    def evaluate(self, test_data):\n",
        "      for (x,y) in test_data:\n",
        "        test_results = [(np.argmax(self.feedforward(x)), y)\n",
        "                        for (x, y) in test_data]\n",
        "        return sum(int(x == y) for (x, y) in test_results)\n",
        "\n",
        "    def cost_derivative(self, output_activations, y):\n",
        "        return output_activations - y\n",
        "\n",
        "\n",
        "def sigmoid(z):\n",
        "    return 1.0 / (1.0 + np.exp(-z))\n",
        "\n",
        "\n",
        "def sigmoid_prime(z):\n",
        "    return sigmoid(z) * (1-sigmoid(z))"
      ],
      "execution_count": null,
      "outputs": []
    },
    {
      "cell_type": "markdown",
      "metadata": {
        "id": "b0YhgQVzsbiK"
      },
      "source": [
        "Main function to train and test the model"
      ]
    },
    {
      "cell_type": "code",
      "metadata": {
        "id": "rvXAUAiyciv6"
      },
      "source": [
        "def main():\n",
        "    print('OpenCV version {} '.format(cv2.__version__))\n",
        "    training_data = []\n",
        "    for filename in glob.iglob('/content/drive/My Drive/sign-recg/Data/training/024/*.png', recursive=True):\n",
        "        img = cv2.imread(filename, 0)\n",
        "        if img is not None:\n",
        "            data = np.array(prepare(img))\n",
        "            data = np.reshape(data, (901, 1))\n",
        "            result = [[0], [1]] if \"genuine\" in filename else [[1], [0]]\n",
        "            result = np.array(result)\n",
        "            result = np.reshape(result, (2,1))\n",
        "            training_data.append((data, result))\n",
        "    test_data = []\n",
        "    for filename in glob.iglob('/content/drive/My Drive/sign-recg/Data/testing/024/*.png', recursive=True):\n",
        "        img = cv2.imread(filename, 0)\n",
        "        if img is not None:\n",
        "            data = np.array(prepare(img))\n",
        "            data = np.reshape(data, (901, 1))\n",
        "            result = 1 if \"genuine\" in filename else 0\n",
        "            test_data.append((data, result))\n",
        "            \n",
        "    net = NeuralNetwork([901, 500, 500, 2])\n",
        "    net.sgd(training_data, 4, 50, 0.01, test_data)"
      ],
      "execution_count": null,
      "outputs": []
    },
    {
      "cell_type": "code",
      "metadata": {
        "id": "CPJYKs0jd0tU",
        "colab": {
          "base_uri": "https://localhost:8080/"
        },
        "outputId": "df7cf740-48c1-4c9e-d5d0-0104db012a94"
      },
      "source": [
        "main()"
      ],
      "execution_count": 25,
      "outputs": [
        {
          "output_type": "stream",
          "text": [
            "OpenCV version 4.1.2 \n",
            "Epoch 0 : 13 / 24\n",
            "Epoch 1 : 13 / 24\n",
            "Epoch 2 : 13 / 24\n",
            "Epoch 3 : 13 / 24\n",
            "Epoch 4 : 13 / 24\n",
            "Epoch 5 : 13 / 24\n",
            "Epoch 6 : 13 / 24\n",
            "Epoch 7 : 13 / 24\n",
            "Epoch 8 : 13 / 24\n",
            "Epoch 9 : 13 / 24\n",
            "Result deviation: 7.666666666666667%\n"
          ],
          "name": "stdout"
        }
      ]
    }
  ]
}